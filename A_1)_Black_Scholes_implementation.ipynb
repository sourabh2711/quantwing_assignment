{
  "nbformat": 4,
  "nbformat_minor": 0,
  "metadata": {
    "colab": {
      "provenance": [],
      "collapsed_sections": []
    },
    "kernelspec": {
      "name": "python3",
      "display_name": "Python 3"
    },
    "language_info": {
      "name": "python"
    }
  },
  "cells": [
    {
      "cell_type": "code",
      "execution_count": null,
      "metadata": {
        "id": "-vcH2Xkc3YdJ"
      },
      "outputs": [],
      "source": [
        "import warnings\n",
        "warnings.filterwarnings('ignore')\n",
        "from math import log, sqrt, pi, exp\n",
        "from scipy.stats import norm\n",
        "from datetime import datetime, date\n",
        "import numpy as np\n",
        "import pandas as pd\n",
        "from pandas import DataFrame\n",
        "import pandas_datareader.data as web"
      ]
    },
    {
      "cell_type": "code",
      "source": [
        "def d1(S,K,T,r,sigma):\n",
        "  return(log(S/K)+(r+sigma**2/2.)*T)/sigma*sqrt(T)\n",
        "def d2(S,K,T,r,sigma):\n",
        "  return d1(S,K,T,r,sigma)-sigma*sqrt(T)"
      ],
      "metadata": {
        "id": "C5jaKSQI6EkL"
      },
      "execution_count": null,
      "outputs": []
    },
    {
      "cell_type": "code",
      "source": [
        "def bs_call(S,K,T,r,sigma):\n",
        "  return S*norm.cdf(d1(S,K,T,r,sigma))-K*exp(-r*T)*norm.cdf(d2(S,K,T,r,sigma))\n",
        "def bs_put(S,K,T,r,sigma):\n",
        "  return K*exp(-r*T)-S+bs_call(S,K,T,r,sigma)"
      ],
      "metadata": {
        "id": "qjFHgCSi6E9J"
      },
      "execution_count": null,
      "outputs": []
    },
    {
      "cell_type": "code",
      "source": [
        "stock = 'MSFT'\n",
        "expiry = '12-18-2022'\n",
        "strike_price = 168"
      ],
      "metadata": {
        "id": "4NAh9W6x6Va5"
      },
      "execution_count": null,
      "outputs": []
    },
    {
      "cell_type": "code",
      "source": [
        "pip install yfinance"
      ],
      "metadata": {
        "id": "X3yCxfUS-_Fr"
      },
      "execution_count": null,
      "outputs": []
    },
    {
      "cell_type": "code",
      "source": [
        "import yfinance as yf\n",
        "aapl = yf.Ticker(\"AAPL\")\n",
        "df = aapl.history(period = \"252d\")"
      ],
      "metadata": {
        "id": "QONxbyI7-chK"
      },
      "execution_count": null,
      "outputs": []
    },
    {
      "cell_type": "code",
      "source": [
        "df = df.sort_values(by=\"Date\")\n",
        "df = df.dropna()\n",
        "df = df.assign(close_day_before=df.Close.shift(1))\n",
        "df['returns'] = ((df.Close - df.close_day_before)/df.close_day_before)"
      ],
      "metadata": {
        "id": "_tz07pk6-ehw"
      },
      "execution_count": null,
      "outputs": []
    },
    {
      "cell_type": "code",
      "source": [
        "sigma = np.sqrt(252) * df['returns'].std()"
      ],
      "metadata": {
        "id": "oKvXH4wu_P4j"
      },
      "execution_count": null,
      "outputs": []
    },
    {
      "cell_type": "code",
      "source": [
        "df"
      ],
      "metadata": {
        "id": "sajVNvqN_Tvz"
      },
      "execution_count": null,
      "outputs": []
    },
    {
      "cell_type": "code",
      "source": [
        "sigma = np.sqrt(252) * df['returns'].std()\n",
        "lcp = df['Close'].iloc[-1]\n",
        "t = (datetime.strptime(expiry, \"%m-%d-%Y\") - datetime.utcnow()).days / 365\n",
        "r = 0.1 #arbitrary"
      ],
      "metadata": {
        "id": "f-Mb1NDH_Uc4"
      },
      "execution_count": null,
      "outputs": []
    },
    {
      "cell_type": "code",
      "source": [
        "print('The Call Option Price is: ', bs_call(lcp, strike_price, t, r, sigma))"
      ],
      "metadata": {
        "colab": {
          "base_uri": "https://localhost:8080/"
        },
        "id": "YXKmzgAj_m0_",
        "outputId": "2468409e-4084-407d-ef07-9b3ec937e8bf"
      },
      "execution_count": null,
      "outputs": [
        {
          "output_type": "stream",
          "name": "stdout",
          "text": [
            "The Call Option Price is:  14.91341797857622\n"
          ]
        }
      ]
    },
    {
      "cell_type": "code",
      "source": [
        "print('The Put Option Price is: ', bs_put(lcp, strike_price, t, r, sigma))"
      ],
      "metadata": {
        "colab": {
          "base_uri": "https://localhost:8080/"
        },
        "id": "dgvdMMl7_nVP",
        "outputId": "1241b65a-c951-471e-a59a-42f365ad1d7e"
      },
      "execution_count": null,
      "outputs": [
        {
          "output_type": "stream",
          "name": "stdout",
          "text": [
            "The Put Option Price is:  7.762008979188906\n"
          ]
        }
      ]
    }
  ]
}